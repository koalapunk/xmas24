{
 "cells": [
  {
   "cell_type": "code",
   "execution_count": 8,
   "id": "07c994be",
   "metadata": {
    "scrolled": true
   },
   "outputs": [
    {
     "name": "stdout",
     "output_type": "stream",
     "text": [
      "Requirement already satisfied: ipywidgets in /opt/homebrew/anaconda3/lib/python3.11/site-packages (8.0.4)\n",
      "Requirement already satisfied: ipykernel>=4.5.1 in /opt/homebrew/anaconda3/lib/python3.11/site-packages (from ipywidgets) (6.25.0)\n",
      "Requirement already satisfied: ipython>=6.1.0 in /opt/homebrew/anaconda3/lib/python3.11/site-packages (from ipywidgets) (8.15.0)\n",
      "Requirement already satisfied: traitlets>=4.3.1 in /opt/homebrew/anaconda3/lib/python3.11/site-packages (from ipywidgets) (5.7.1)\n",
      "Requirement already satisfied: widgetsnbextension~=4.0 in /opt/homebrew/anaconda3/lib/python3.11/site-packages (from ipywidgets) (4.0.5)\n",
      "Requirement already satisfied: jupyterlab-widgets~=3.0 in /opt/homebrew/anaconda3/lib/python3.11/site-packages (from ipywidgets) (3.0.5)\n",
      "Requirement already satisfied: appnope in /opt/homebrew/anaconda3/lib/python3.11/site-packages (from ipykernel>=4.5.1->ipywidgets) (0.1.2)\n",
      "Requirement already satisfied: comm>=0.1.1 in /opt/homebrew/anaconda3/lib/python3.11/site-packages (from ipykernel>=4.5.1->ipywidgets) (0.1.2)\n",
      "Requirement already satisfied: debugpy>=1.6.5 in /opt/homebrew/anaconda3/lib/python3.11/site-packages (from ipykernel>=4.5.1->ipywidgets) (1.6.7)\n",
      "Requirement already satisfied: jupyter-client>=6.1.12 in /opt/homebrew/anaconda3/lib/python3.11/site-packages (from ipykernel>=4.5.1->ipywidgets) (7.4.9)\n",
      "Requirement already satisfied: jupyter-core!=5.0.*,>=4.12 in /opt/homebrew/anaconda3/lib/python3.11/site-packages (from ipykernel>=4.5.1->ipywidgets) (5.3.0)\n",
      "Requirement already satisfied: matplotlib-inline>=0.1 in /opt/homebrew/anaconda3/lib/python3.11/site-packages (from ipykernel>=4.5.1->ipywidgets) (0.1.6)\n",
      "Requirement already satisfied: nest-asyncio in /opt/homebrew/anaconda3/lib/python3.11/site-packages (from ipykernel>=4.5.1->ipywidgets) (1.5.6)\n",
      "Requirement already satisfied: packaging in /opt/homebrew/anaconda3/lib/python3.11/site-packages (from ipykernel>=4.5.1->ipywidgets) (23.1)\n",
      "Requirement already satisfied: psutil in /opt/homebrew/anaconda3/lib/python3.11/site-packages (from ipykernel>=4.5.1->ipywidgets) (5.9.0)\n",
      "Requirement already satisfied: pyzmq>=20 in /opt/homebrew/anaconda3/lib/python3.11/site-packages (from ipykernel>=4.5.1->ipywidgets) (23.2.0)\n",
      "Requirement already satisfied: tornado>=6.1 in /opt/homebrew/anaconda3/lib/python3.11/site-packages (from ipykernel>=4.5.1->ipywidgets) (6.3.3)\n",
      "Requirement already satisfied: backcall in /opt/homebrew/anaconda3/lib/python3.11/site-packages (from ipython>=6.1.0->ipywidgets) (0.2.0)\n",
      "Requirement already satisfied: decorator in /opt/homebrew/anaconda3/lib/python3.11/site-packages (from ipython>=6.1.0->ipywidgets) (5.1.1)\n",
      "Requirement already satisfied: jedi>=0.16 in /opt/homebrew/anaconda3/lib/python3.11/site-packages (from ipython>=6.1.0->ipywidgets) (0.18.1)\n",
      "Requirement already satisfied: pickleshare in /opt/homebrew/anaconda3/lib/python3.11/site-packages (from ipython>=6.1.0->ipywidgets) (0.7.5)\n",
      "Requirement already satisfied: prompt-toolkit!=3.0.37,<3.1.0,>=3.0.30 in /opt/homebrew/anaconda3/lib/python3.11/site-packages (from ipython>=6.1.0->ipywidgets) (3.0.36)\n",
      "Requirement already satisfied: pygments>=2.4.0 in /opt/homebrew/anaconda3/lib/python3.11/site-packages (from ipython>=6.1.0->ipywidgets) (2.15.1)\n",
      "Requirement already satisfied: stack-data in /opt/homebrew/anaconda3/lib/python3.11/site-packages (from ipython>=6.1.0->ipywidgets) (0.2.0)\n",
      "Requirement already satisfied: pexpect>4.3 in /opt/homebrew/anaconda3/lib/python3.11/site-packages (from ipython>=6.1.0->ipywidgets) (4.8.0)\n",
      "Requirement already satisfied: parso<0.9.0,>=0.8.0 in /opt/homebrew/anaconda3/lib/python3.11/site-packages (from jedi>=0.16->ipython>=6.1.0->ipywidgets) (0.8.3)\n",
      "Requirement already satisfied: entrypoints in /opt/homebrew/anaconda3/lib/python3.11/site-packages (from jupyter-client>=6.1.12->ipykernel>=4.5.1->ipywidgets) (0.4)\n",
      "Requirement already satisfied: python-dateutil>=2.8.2 in /opt/homebrew/anaconda3/lib/python3.11/site-packages (from jupyter-client>=6.1.12->ipykernel>=4.5.1->ipywidgets) (2.8.2)\n",
      "Requirement already satisfied: platformdirs>=2.5 in /opt/homebrew/anaconda3/lib/python3.11/site-packages (from jupyter-core!=5.0.*,>=4.12->ipykernel>=4.5.1->ipywidgets) (3.10.0)\n",
      "Requirement already satisfied: ptyprocess>=0.5 in /opt/homebrew/anaconda3/lib/python3.11/site-packages (from pexpect>4.3->ipython>=6.1.0->ipywidgets) (0.7.0)\n",
      "Requirement already satisfied: wcwidth in /opt/homebrew/anaconda3/lib/python3.11/site-packages (from prompt-toolkit!=3.0.37,<3.1.0,>=3.0.30->ipython>=6.1.0->ipywidgets) (0.2.5)\n",
      "Requirement already satisfied: executing in /opt/homebrew/anaconda3/lib/python3.11/site-packages (from stack-data->ipython>=6.1.0->ipywidgets) (0.8.3)\n",
      "Requirement already satisfied: asttokens in /opt/homebrew/anaconda3/lib/python3.11/site-packages (from stack-data->ipython>=6.1.0->ipywidgets) (2.0.5)\n",
      "Requirement already satisfied: pure-eval in /opt/homebrew/anaconda3/lib/python3.11/site-packages (from stack-data->ipython>=6.1.0->ipywidgets) (0.2.2)\n",
      "Requirement already satisfied: six>=1.5 in /opt/homebrew/anaconda3/lib/python3.11/site-packages (from python-dateutil>=2.8.2->jupyter-client>=6.1.12->ipykernel>=4.5.1->ipywidgets) (1.16.0)\n",
      "Note: you may need to restart the kernel to use updated packages.\n"
     ]
    }
   ],
   "source": [
    "pip install ipywidgets"
   ]
  },
  {
   "cell_type": "code",
   "execution_count": 10,
   "id": "a1403900",
   "metadata": {},
   "outputs": [],
   "source": [
    "from ipywidgets import *"
   ]
  },
  {
   "cell_type": "code",
   "execution_count": 2,
   "id": "c41263c6",
   "metadata": {},
   "outputs": [
    {
     "name": "stdout",
     "output_type": "stream",
     "text": [
      "Collecting playsound\n",
      "  Using cached playsound-1.3.0.tar.gz (7.7 kB)\n",
      "  Preparing metadata (setup.py) ... \u001b[?25ldone\n",
      "\u001b[?25hBuilding wheels for collected packages: playsound\n",
      "  Building wheel for playsound (setup.py) ... \u001b[?25ldone\n",
      "\u001b[?25h  Created wheel for playsound: filename=playsound-1.3.0-py3-none-any.whl size=7022 sha256=c609256652dcc8a51a949e66103b663c627021a9b91a538d8a6369c3e441070e\n",
      "  Stored in directory: /Users/koala/Library/Caches/pip/wheels/50/98/42/62753a9e1fb97579a0ce2f84f7db4c21c09d03bb2091e6cef4\n",
      "Successfully built playsound\n",
      "Installing collected packages: playsound\n",
      "Successfully installed playsound-1.3.0\n",
      "Note: you may need to restart the kernel to use updated packages.\n"
     ]
    }
   ],
   "source": [
    "pip install playsound"
   ]
  },
  {
   "cell_type": "code",
   "execution_count": 3,
   "id": "7b914914",
   "metadata": {},
   "outputs": [],
   "source": [
    "from playsound import playsound"
   ]
  },
  {
   "cell_type": "markdown",
   "id": "b7587eb2",
   "metadata": {},
   "source": [
    "# **Weihnachten mit Daniel und Leslie**"
   ]
  },
  {
   "cell_type": "code",
   "execution_count": 36,
   "id": "96820560",
   "metadata": {},
   "outputs": [
    {
     "data": {
      "application/vnd.jupyter.widget-view+json": {
       "model_id": "7ed4d4197ca446e29fbb9496e59eed91",
       "version_major": 2,
       "version_minor": 0
      },
      "text/plain": [
       "Image(value=b\"\\x89PNG\\r\\n\\x1a\\n\\x00\\x00\\x00\\rIHDR\\x00\\x00\\x01\\x94\\x00\\x00\\x01\\xf3\\x08\\x06\\x00\\x00\\x00\\x074\\xeb…"
      ]
     },
     "execution_count": 36,
     "metadata": {},
     "output_type": "execute_result"
    }
   ],
   "source": [
    "file = open(\"Titel.png\", \"rb\")\n",
    "image = file.read()\n",
    "widgets.Image(\n",
    "    value=image,\n",
    "    format='png',\n",
    "    width=300,\n",
    "    height=400,\n",
    ")"
   ]
  },
  {
   "cell_type": "markdown",
   "id": "188f2923",
   "metadata": {},
   "source": [
    "*Spezial-Edition an ausgewählten Weihnachtssongs"
   ]
  },
  {
   "cell_type": "markdown",
   "id": "b6996215",
   "metadata": {},
   "source": [
    "## 1 - Jingle Bell Rock"
   ]
  },
  {
   "cell_type": "markdown",
   "id": "2e658570",
   "metadata": {},
   "source": [
    "### Wir starten mit einer flotten Version des Jingle Bell Rock.\n",
    "### Zeit gemeinsam die Hüften zu schwingen und den Weihnachtsbaum zu umtanzen!"
   ]
  },
  {
   "cell_type": "code",
   "execution_count": 35,
   "id": "ade164d5",
   "metadata": {},
   "outputs": [
    {
     "data": {
      "application/vnd.jupyter.widget-view+json": {
       "model_id": "a9f817c894c34b69aa2ddf56e22b8552",
       "version_major": 2,
       "version_minor": 0
      },
      "text/plain": [
       "Image(value=b\"\\x89PNG\\r\\n\\x1a\\n\\x00\\x00\\x00\\rIHDR\\x00\\x00\\x02&\\x00\\x00\\x01\\xed\\x08\\x06\\x00\\x00\\x00-\\t\\xb5\\xac\\…"
      ]
     },
     "execution_count": 35,
     "metadata": {},
     "output_type": "execute_result"
    }
   ],
   "source": [
    "file = open(\"jingle-bellrock.png\", \"rb\")\n",
    "image = file.read()\n",
    "widgets.Image(\n",
    "    value=image,\n",
    "    format='png',\n",
    "    width=300,\n",
    "    height=400,\n",
    ")"
   ]
  },
  {
   "cell_type": "code",
   "execution_count": 33,
   "id": "581d48a0",
   "metadata": {},
   "outputs": [
    {
     "data": {
      "application/vnd.jupyter.widget-view+json": {
       "model_id": "96a04f6ffc274836ad39865a9c66350f",
       "version_major": 2,
       "version_minor": 0
      },
      "text/plain": [
       "Button(button_style='danger', description='PLAY', icon='play', style=ButtonStyle())"
      ]
     },
     "execution_count": 33,
     "metadata": {},
     "output_type": "execute_result"
    }
   ],
   "source": [
    "button = widgets.Button(\n",
    "    description='PLAY',\n",
    "    disabled=False,\n",
    "    button_style='danger',\n",
    "    icon='play' # (FontAwesome names without the `fa-` prefix)\n",
    ")\n",
    "\n",
    "def play(a):\n",
    "    playsound('Jingle-Bell-Rock.wav')\n",
    "    \n",
    "button.on_click(play)\n",
    "button"
   ]
  },
  {
   "cell_type": "markdown",
   "id": "bc2e7930",
   "metadata": {},
   "source": [
    "## 2 - Jingle Bells"
   ]
  },
  {
   "cell_type": "markdown",
   "id": "72b0953e",
   "metadata": {},
   "source": [
    "### Und es geht direkt weiter mit leutenden Glocken!"
   ]
  },
  {
   "cell_type": "code",
   "execution_count": 37,
   "id": "a07b1098",
   "metadata": {},
   "outputs": [
    {
     "data": {
      "application/vnd.jupyter.widget-view+json": {
       "model_id": "85c2797d679b4eddb0940cf7ed78895b",
       "version_major": 2,
       "version_minor": 0
      },
      "text/plain": [
       "Image(value=b\"\\x89PNG\\r\\n\\x1a\\n\\x00\\x00\\x00\\rIHDR\\x00\\x00\\x01n\\x00\\x00\\x01Z\\x08\\x06\\x00\\x00\\x00>I\\xb74\\x00\\x00…"
      ]
     },
     "execution_count": 37,
     "metadata": {},
     "output_type": "execute_result"
    }
   ],
   "source": [
    "file = open(\"jingle-bells.png\", \"rb\")\n",
    "image = file.read()\n",
    "widgets.Image(\n",
    "    value=image,\n",
    "    format='png',\n",
    "    width=300,\n",
    "    height=400,\n",
    ")"
   ]
  },
  {
   "cell_type": "code",
   "execution_count": 39,
   "id": "dc61cad7",
   "metadata": {},
   "outputs": [
    {
     "data": {
      "application/vnd.jupyter.widget-view+json": {
       "model_id": "3d8418ff30834fda833a31179bb2d0a9",
       "version_major": 2,
       "version_minor": 0
      },
      "text/plain": [
       "Button(button_style='danger', description='PLAY', icon='play', style=ButtonStyle())"
      ]
     },
     "execution_count": 39,
     "metadata": {},
     "output_type": "execute_result"
    }
   ],
   "source": [
    "button = widgets.Button(\n",
    "    description='PLAY',\n",
    "    disabled=False,\n",
    "    button_style='danger',\n",
    "    icon='play' # (FontAwesome names without the `fa-` prefix)\n",
    ")\n",
    "\n",
    "def play(a):\n",
    "    playsound('Jingle-Bells.wav')\n",
    "    \n",
    "button.on_click(play)\n",
    "button"
   ]
  },
  {
   "cell_type": "markdown",
   "id": "ae8b47ac",
   "metadata": {},
   "source": [
    "## 3 - Last Christmas"
   ]
  },
  {
   "cell_type": "markdown",
   "id": "c7fcace1",
   "metadata": {},
   "source": [
    "### Auch dieser Klassiker darf selbstverständlich nicht fehlen. Etwas ruhiger geht es weiter mit *Last Christmas*"
   ]
  },
  {
   "cell_type": "code",
   "execution_count": 41,
   "id": "cb0a0f4a",
   "metadata": {},
   "outputs": [
    {
     "data": {
      "application/vnd.jupyter.widget-view+json": {
       "model_id": "2a380972a22146ab9f8f510b4e1e6ebc",
       "version_major": 2,
       "version_minor": 0
      },
      "text/plain": [
       "Image(value=b\"\\x89PNG\\r\\n\\x1a\\n\\x00\\x00\\x00\\rIHDR\\x00\\x00\\x01\\x98\\x00\\x00\\x01U\\x08\\x06\\x00\\x00\\x00\\xd2M\\xf9?\\x…"
      ]
     },
     "execution_count": 41,
     "metadata": {},
     "output_type": "execute_result"
    }
   ],
   "source": [
    "file = open(\"last-christ.png\", \"rb\")\n",
    "image = file.read()\n",
    "widgets.Image(\n",
    "    value=image,\n",
    "    format='png',\n",
    "    width=300,\n",
    "    height=400,\n",
    ")"
   ]
  },
  {
   "cell_type": "code",
   "execution_count": 42,
   "id": "b0b5c052",
   "metadata": {},
   "outputs": [
    {
     "data": {
      "application/vnd.jupyter.widget-view+json": {
       "model_id": "356e5302680b44fe86f7236254f04d44",
       "version_major": 2,
       "version_minor": 0
      },
      "text/plain": [
       "Button(button_style='danger', description='PLAY', icon='play', style=ButtonStyle())"
      ]
     },
     "execution_count": 42,
     "metadata": {},
     "output_type": "execute_result"
    }
   ],
   "source": [
    "button = widgets.Button(\n",
    "    description='PLAY',\n",
    "    disabled=False,\n",
    "    button_style='danger',\n",
    "    icon='play' # (FontAwesome names without the `fa-` prefix)\n",
    ")\n",
    "\n",
    "def play(a):\n",
    "    playsound('Last-Christmas.wav')\n",
    "    \n",
    "button.on_click(play)\n",
    "button"
   ]
  },
  {
   "cell_type": "markdown",
   "id": "d2ff24f4",
   "metadata": {},
   "source": [
    "## 4 - Leise Rieselt Der Schnee"
   ]
  },
  {
   "cell_type": "markdown",
   "id": "2424145f",
   "metadata": {},
   "source": [
    "### Es bleibt ruhig, denn leise rieselt der Schnee.. In Moll!"
   ]
  },
  {
   "cell_type": "code",
   "execution_count": 43,
   "id": "fdd1ac0c",
   "metadata": {},
   "outputs": [
    {
     "data": {
      "application/vnd.jupyter.widget-view+json": {
       "model_id": "41028753c738439e97f427b25e2c44a8",
       "version_major": 2,
       "version_minor": 0
      },
      "text/plain": [
       "Image(value=b\"\\x89PNG\\r\\n\\x1a\\n\\x00\\x00\\x00\\rIHDR\\x00\\x00\\x01\\xae\\x00\\x00\\x01_\\x08\\x06\\x00\\x00\\x00\\x16;(&\\x00\\…"
      ]
     },
     "execution_count": 43,
     "metadata": {},
     "output_type": "execute_result"
    }
   ],
   "source": [
    "file = open(\"schnee.png\", \"rb\")\n",
    "image = file.read()\n",
    "widgets.Image(\n",
    "    value=image,\n",
    "    format='png',\n",
    "    width=300,\n",
    "    height=400,\n",
    ")"
   ]
  },
  {
   "cell_type": "code",
   "execution_count": 44,
   "id": "88a750f8",
   "metadata": {},
   "outputs": [
    {
     "data": {
      "application/vnd.jupyter.widget-view+json": {
       "model_id": "58fe836155d0493daa00d8ab19d7123a",
       "version_major": 2,
       "version_minor": 0
      },
      "text/plain": [
       "Button(button_style='danger', description='PLAY', icon='play', style=ButtonStyle())"
      ]
     },
     "execution_count": 44,
     "metadata": {},
     "output_type": "execute_result"
    }
   ],
   "source": [
    "button = widgets.Button(\n",
    "    description='PLAY',\n",
    "    disabled=False,\n",
    "    button_style='danger',\n",
    "    icon='play' # (FontAwesome names without the `fa-` prefix)\n",
    ")\n",
    "\n",
    "def play(a):\n",
    "    playsound('Leise-rieselt-der-Schnee.wav')\n",
    "    \n",
    "button.on_click(play)\n",
    "button"
   ]
  },
  {
   "cell_type": "markdown",
   "id": "e653c3bb",
   "metadata": {},
   "source": [
    "## 5 - Have Yourself A Merry Little Christmas"
   ]
  },
  {
   "cell_type": "markdown",
   "id": "dc7e2973",
   "metadata": {},
   "source": [
    "### Hier spricht der Titel schon für sich und für eine kleine, besinnliche Zeit! "
   ]
  },
  {
   "cell_type": "code",
   "execution_count": 45,
   "id": "e4f6b2ed",
   "metadata": {},
   "outputs": [
    {
     "data": {
      "application/vnd.jupyter.widget-view+json": {
       "model_id": "7965b390b5bd4b6aab33c61f65d897a2",
       "version_major": 2,
       "version_minor": 0
      },
      "text/plain": [
       "Image(value=b\"\\x89PNG\\r\\n\\x1a\\n\\x00\\x00\\x00\\rIHDR\\x00\\x00\\x00\\xef\\x00\\x00\\x00\\xbd\\x08\\x06\\x00\\x00\\x00[6*E\\x00\\…"
      ]
     },
     "execution_count": 45,
     "metadata": {},
     "output_type": "execute_result"
    }
   ],
   "source": [
    "file = open(\"little-christmas.png\", \"rb\")\n",
    "image = file.read()\n",
    "widgets.Image(\n",
    "    value=image,\n",
    "    format='png',\n",
    "    width=300,\n",
    "    height=400,\n",
    ")"
   ]
  },
  {
   "cell_type": "code",
   "execution_count": 46,
   "id": "4f2b9d2c",
   "metadata": {},
   "outputs": [
    {
     "data": {
      "application/vnd.jupyter.widget-view+json": {
       "model_id": "d42299c7052e4e84aa5ad965eeb09528",
       "version_major": 2,
       "version_minor": 0
      },
      "text/plain": [
       "Button(button_style='danger', description='PLAY', icon='play', style=ButtonStyle())"
      ]
     },
     "execution_count": 46,
     "metadata": {},
     "output_type": "execute_result"
    }
   ],
   "source": [
    "button = widgets.Button(\n",
    "    description='PLAY',\n",
    "    disabled=False,\n",
    "    button_style='danger',\n",
    "    icon='play' # (FontAwesome names without the `fa-` prefix)\n",
    ")\n",
    "\n",
    "def play(a):\n",
    "    playsound('Merry-little-Christmas.wav')\n",
    "    \n",
    "button.on_click(play)\n",
    "button"
   ]
  },
  {
   "cell_type": "markdown",
   "id": "6b114d4a",
   "metadata": {},
   "source": [
    "## 6 - Oh Tannenbaum"
   ]
  },
  {
   "cell_type": "markdown",
   "id": "1b0d8e8f",
   "metadata": {},
   "source": [
    "### Ja wie grün sind denn nun die Blätter? Brillantgrün, Patinagrün, Smaragdgrün, Giftgrün oder doch etwa Perlgrün? Die Frage bleibt wohl offen. Das Lied aber kommt direkt in die Ohren."
   ]
  },
  {
   "cell_type": "code",
   "execution_count": 47,
   "id": "4198a2d9",
   "metadata": {},
   "outputs": [
    {
     "data": {
      "application/vnd.jupyter.widget-view+json": {
       "model_id": "b4184172c65a4129bdcdf8897029dbe6",
       "version_major": 2,
       "version_minor": 0
      },
      "text/plain": [
       "Image(value=b\"\\x89PNG\\r\\n\\x1a\\n\\x00\\x00\\x00\\rIHDR\\x00\\x00\\x00\\xcc\\x00\\x00\\x01\\x19\\x08\\x06\\x00\\x00\\x00\\xdb\\xa6\\…"
      ]
     },
     "execution_count": 47,
     "metadata": {},
     "output_type": "execute_result"
    }
   ],
   "source": [
    "file = open(\"tannenbaum.png\", \"rb\")\n",
    "image = file.read()\n",
    "widgets.Image(\n",
    "    value=image,\n",
    "    format='png',\n",
    "    width=300,\n",
    "    height=400,\n",
    ")"
   ]
  },
  {
   "cell_type": "code",
   "execution_count": 48,
   "id": "a3ea96d1",
   "metadata": {},
   "outputs": [
    {
     "data": {
      "application/vnd.jupyter.widget-view+json": {
       "model_id": "53ec84b4dd30458bb6fa1a8589e283e1",
       "version_major": 2,
       "version_minor": 0
      },
      "text/plain": [
       "Button(button_style='danger', description='PLAY', icon='play', style=ButtonStyle())"
      ]
     },
     "execution_count": 48,
     "metadata": {},
     "output_type": "execute_result"
    }
   ],
   "source": [
    "button = widgets.Button(\n",
    "    description='PLAY',\n",
    "    disabled=False,\n",
    "    button_style='danger',\n",
    "    icon='play' # (FontAwesome names without the `fa-` prefix)\n",
    ")\n",
    "\n",
    "def play(a):\n",
    "    playsound('Oh-Tannenbaum.wav')\n",
    "    \n",
    "button.on_click(play)\n",
    "button"
   ]
  },
  {
   "cell_type": "markdown",
   "id": "d78bdf26",
   "metadata": {},
   "source": [
    "## 7 - Rudolph The Rednosed Reindeer"
   ]
  },
  {
   "cell_type": "markdown",
   "id": "1302d9bf",
   "metadata": {},
   "source": [
    "### Ohne Rudolph's Nase wär die gesamte Geschenk-Verteilungsaktion wohl äußerst aufgeschmissen. Ein Glück, dass sie immernoch so schön rot leuchtet. "
   ]
  },
  {
   "cell_type": "code",
   "execution_count": 49,
   "id": "b8dfb394",
   "metadata": {},
   "outputs": [
    {
     "data": {
      "application/vnd.jupyter.widget-view+json": {
       "model_id": "d93ef45cc8ff439780f9465d915d5b8b",
       "version_major": 2,
       "version_minor": 0
      },
      "text/plain": [
       "Image(value=b\"\\x89PNG\\r\\n\\x1a\\n\\x00\\x00\\x00\\rIHDR\\x00\\x00\\x01K\\x00\\x00\\x01@\\x08\\x06\\x00\\x00\\x005p^]\\x00\\x00\\x0…"
      ]
     },
     "execution_count": 49,
     "metadata": {},
     "output_type": "execute_result"
    }
   ],
   "source": [
    "file = open(\"rudolph.png\", \"rb\")\n",
    "image = file.read()\n",
    "widgets.Image(\n",
    "    value=image,\n",
    "    format='png',\n",
    "    width=300,\n",
    "    height=400,\n",
    ")"
   ]
  },
  {
   "cell_type": "code",
   "execution_count": 50,
   "id": "4cfba53a",
   "metadata": {},
   "outputs": [
    {
     "data": {
      "application/vnd.jupyter.widget-view+json": {
       "model_id": "22b4606ad02f49d898b443b16bc7098a",
       "version_major": 2,
       "version_minor": 0
      },
      "text/plain": [
       "Button(button_style='danger', description='PLAY', icon='play', style=ButtonStyle())"
      ]
     },
     "execution_count": 50,
     "metadata": {},
     "output_type": "execute_result"
    }
   ],
   "source": [
    "button = widgets.Button(\n",
    "    description='PLAY',\n",
    "    disabled=False,\n",
    "    button_style='danger',\n",
    "    icon='play' # (FontAwesome names without the `fa-` prefix)\n",
    ")\n",
    "\n",
    "def play(a):\n",
    "    playsound('Rudolph-the-red-nosed-Reindeer.wav')\n",
    "    \n",
    "button.on_click(play)\n",
    "button"
   ]
  },
  {
   "cell_type": "markdown",
   "id": "f0888c96",
   "metadata": {},
   "source": [
    "## 8 - Santa Clause is Coming to Town"
   ]
  },
  {
   "cell_type": "markdown",
   "id": "e4dc0a35",
   "metadata": {},
   "source": [
    "### Wohlwahr, Santa Klaus lässt sich mal wieder blicken. Habt ihr ihn schon gesehen? Man munkelt, dass er wohl öfter die Lautfolge \"ho ho ho\" von sich geben würde. Das könnte ein heißer Tipp sein. Jedoch stiftet dies auch häufig Verwirrung."
   ]
  },
  {
   "cell_type": "code",
   "execution_count": 51,
   "id": "1cdee822",
   "metadata": {},
   "outputs": [
    {
     "data": {
      "application/vnd.jupyter.widget-view+json": {
       "model_id": "d020c71678be417c8b0e174eac447408",
       "version_major": 2,
       "version_minor": 0
      },
      "text/plain": [
       "Image(value=b\"\\x89PNG\\r\\n\\x1a\\n\\x00\\x00\\x00\\rIHDR\\x00\\x00\\x01\\xbf\\x00\\x00\\x01\\xb8\\x08\\x06\\x00\\x00\\x00\\xd5\\x16\\…"
      ]
     },
     "execution_count": 51,
     "metadata": {},
     "output_type": "execute_result"
    }
   ],
   "source": [
    "file = open(\"santa.png\", \"rb\")\n",
    "image = file.read()\n",
    "widgets.Image(\n",
    "    value=image,\n",
    "    format='png',\n",
    "    width=300,\n",
    "    height=400,\n",
    ")"
   ]
  },
  {
   "cell_type": "code",
   "execution_count": 52,
   "id": "189bfc54",
   "metadata": {},
   "outputs": [
    {
     "data": {
      "application/vnd.jupyter.widget-view+json": {
       "model_id": "546c381338a6484295c9d02940b3c267",
       "version_major": 2,
       "version_minor": 0
      },
      "text/plain": [
       "Button(button_style='danger', description='PLAY', icon='play', style=ButtonStyle())"
      ]
     },
     "execution_count": 52,
     "metadata": {},
     "output_type": "execute_result"
    }
   ],
   "source": [
    "button = widgets.Button(\n",
    "    description='PLAY',\n",
    "    disabled=False,\n",
    "    button_style='danger',\n",
    "    icon='play' # (FontAwesome names without the `fa-` prefix)\n",
    ")\n",
    "\n",
    "def play(a):\n",
    "    playsound('Santa-Clause-is-coming-to-Town.wav')\n",
    "    \n",
    "button.on_click(play)\n",
    "button"
   ]
  },
  {
   "cell_type": "markdown",
   "id": "567b340f",
   "metadata": {},
   "source": [
    "## 9 - Winter Wonderland"
   ]
  },
  {
   "cell_type": "markdown",
   "id": "4fa1fb1a",
   "metadata": {},
   "source": [
    "### Schnee ist Santa Clause offensichtlich egal. Sonst wäre er wohl nicht gerade to Town gekommen. Allerdings dürfen wir trotzdem von weißer Weihnacht träumen und davon in einem Winter Wonderland zu walken."
   ]
  },
  {
   "cell_type": "code",
   "execution_count": 53,
   "id": "84c802de",
   "metadata": {},
   "outputs": [
    {
     "data": {
      "application/vnd.jupyter.widget-view+json": {
       "model_id": "6a8e36005dbe4396a14be7dbc7e2a7dc",
       "version_major": 2,
       "version_minor": 0
      },
      "text/plain": [
       "Image(value=b\"\\x89PNG\\r\\n\\x1a\\n\\x00\\x00\\x00\\rIHDR\\x00\\x00\\x01n\\x00\\x00\\x01<\\x08\\x06\\x00\\x00\\x00\\xe0\\xe4[s\\x00\\…"
      ]
     },
     "execution_count": 53,
     "metadata": {},
     "output_type": "execute_result"
    }
   ],
   "source": [
    "file = open(\"winterwonder.png\", \"rb\")\n",
    "image = file.read()\n",
    "widgets.Image(\n",
    "    value=image,\n",
    "    format='png',\n",
    "    width=300,\n",
    "    height=400,\n",
    ")"
   ]
  },
  {
   "cell_type": "code",
   "execution_count": 54,
   "id": "4fc8b7d3",
   "metadata": {},
   "outputs": [
    {
     "data": {
      "application/vnd.jupyter.widget-view+json": {
       "model_id": "ca1781c1875045a7b3124f8d0a7adf96",
       "version_major": 2,
       "version_minor": 0
      },
      "text/plain": [
       "Button(button_style='danger', description='PLAY', icon='play', style=ButtonStyle())"
      ]
     },
     "execution_count": 54,
     "metadata": {},
     "output_type": "execute_result"
    }
   ],
   "source": [
    "button = widgets.Button(\n",
    "    description='PLAY',\n",
    "    disabled=False,\n",
    "    button_style='danger',\n",
    "    icon='play' # (FontAwesome names without the `fa-` prefix)\n",
    ")\n",
    "\n",
    "def play(a):\n",
    "    playsound('Winter-Wonderland.wav')\n",
    "    \n",
    "button.on_click(play)\n",
    "button"
   ]
  },
  {
   "cell_type": "markdown",
   "id": "0f5720b4",
   "metadata": {},
   "source": [
    "## 10 - Wonderful Christmastime"
   ]
  },
  {
   "cell_type": "markdown",
   "id": "6fe7f6aa",
   "metadata": {},
   "source": [
    "### In diesem Sinne verbleiben wir mit Wünschen für eine wundervolle Weihnachtszeit und ganz viel Spaß beim wiederholten Anhören dieser fröhlich-rockigen Weihnachtssongs. Wir hoffen es hat euch gefallen <3 "
   ]
  },
  {
   "cell_type": "code",
   "execution_count": 55,
   "id": "98c907c2",
   "metadata": {},
   "outputs": [
    {
     "data": {
      "application/vnd.jupyter.widget-view+json": {
       "model_id": "32092b6268a249198a33259e9080fc95",
       "version_major": 2,
       "version_minor": 0
      },
      "text/plain": [
       "Image(value=b\"\\x89PNG\\r\\n\\x1a\\n\\x00\\x00\\x00\\rIHDR\\x00\\x00\\x01\\xb9\\x00\\x00\\x017\\x08\\x06\\x00\\x00\\x007\\xee?\\x80\\x…"
      ]
     },
     "execution_count": 55,
     "metadata": {},
     "output_type": "execute_result"
    }
   ],
   "source": [
    "file = open(\"christmastime.png\", \"rb\")\n",
    "image = file.read()\n",
    "widgets.Image(\n",
    "    value=image,\n",
    "    format='png',\n",
    "    width=300,\n",
    "    height=400,\n",
    ")"
   ]
  },
  {
   "cell_type": "code",
   "execution_count": 56,
   "id": "0dd473ca",
   "metadata": {},
   "outputs": [
    {
     "data": {
      "application/vnd.jupyter.widget-view+json": {
       "model_id": "740173a2e58b4ec090cfbfbc02b0b477",
       "version_major": 2,
       "version_minor": 0
      },
      "text/plain": [
       "Button(button_style='danger', description='PLAY', icon='play', style=ButtonStyle())"
      ]
     },
     "execution_count": 56,
     "metadata": {},
     "output_type": "execute_result"
    }
   ],
   "source": [
    "button = widgets.Button(\n",
    "    description='PLAY',\n",
    "    disabled=False,\n",
    "    button_style='danger',\n",
    "    icon='play' # (FontAwesome names without the `fa-` prefix)\n",
    ")\n",
    "\n",
    "def play(a):\n",
    "    playsound('Wonderful-Christmastime.wav')\n",
    "    \n",
    "button.on_click(play)\n",
    "button"
   ]
  }
 ],
 "metadata": {
  "kernelspec": {
   "display_name": "Python 3 (ipykernel)",
   "language": "python",
   "name": "python3"
  },
  "language_info": {
   "codemirror_mode": {
    "name": "ipython",
    "version": 3
   },
   "file_extension": ".py",
   "mimetype": "text/x-python",
   "name": "python",
   "nbconvert_exporter": "python",
   "pygments_lexer": "ipython3",
   "version": "3.11.5"
  }
 },
 "nbformat": 4,
 "nbformat_minor": 5
}
